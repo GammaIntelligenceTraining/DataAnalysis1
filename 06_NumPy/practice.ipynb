{
 "cells": [
  {
   "cell_type": "markdown",
   "id": "16f0aeed-10ab-4603-ab53-72b3ef6ce1a4",
   "metadata": {},
   "source": [
    "**Задача:**\n",
    "  1. Создать **функцию**, которая принимает **список** с 9 произвольными числовыми значениями и трансформирует его в **numpy.array**, представляющий из себя матрицу размером 3х3.\n",
    "  2. функция должна **возвращать** словарь, содержащий: *mean, variance, standard deviation, max, min, sum* для каждой оси и для всей матрицы. Словарь должен иметь следующий формат:\n",
    "  \n",
    "  { \\\n",
    "  'mean': [axis1, axis2, flattened], \\\n",
    "  'variance': [axis1, axis2, flattened], \\\n",
    "  'standard deviation': [axis1, axis2, flattened], \\\n",
    "  'max': [axis1, axis2, flattened], \\\n",
    "  'min': [axis1, axis2, flattened], \\\n",
    "  'sum': [axis1, axis2, flattened] \\\n",
    "}"
   ]
  }
 ],
 "metadata": {
  "kernelspec": {
   "display_name": "Python 3 (ipykernel)",
   "language": "python",
   "name": "python3"
  },
  "language_info": {
   "codemirror_mode": {
    "name": "ipython",
    "version": 3
   },
   "file_extension": ".py",
   "mimetype": "text/x-python",
   "name": "python",
   "nbconvert_exporter": "python",
   "pygments_lexer": "ipython3",
   "version": "3.10.7"
  }
 },
 "nbformat": 4,
 "nbformat_minor": 5
}
